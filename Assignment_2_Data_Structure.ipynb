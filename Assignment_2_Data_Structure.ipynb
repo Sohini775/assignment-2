{
  "nbformat": 4,
  "nbformat_minor": 0,
  "metadata": {
    "colab": {
      "provenance": [],
      "authorship_tag": "ABX9TyMsIhaOQWHG3Nw9tPfhmu47",
      "include_colab_link": true
    },
    "kernelspec": {
      "name": "python3",
      "display_name": "Python 3"
    },
    "language_info": {
      "name": "python"
    }
  },
  "cells": [
    {
      "cell_type": "markdown",
      "metadata": {
        "id": "view-in-github",
        "colab_type": "text"
      },
      "source": [
        "<a href=\"https://colab.research.google.com/github/Sohini775/assignment-2/blob/main/Assignment_2_Data_Structure.ipynb\" target=\"_parent\"><img src=\"https://colab.research.google.com/assets/colab-badge.svg\" alt=\"Open In Colab\"/></a>"
      ]
    },
    {
      "cell_type": "markdown",
      "source": [
        "1. String slicing in Python is helping to extract a substring based on a string that is using “start_index:end_index”. The start index is mainly inclusive and the end index is exclusive. Negative indices are mainly used for the end of the string. This is needed for defining specific portions of the strings effectively.\n"
      ],
      "metadata": {
        "id": "N8Gzev8vK485"
      }
    },
    {
      "cell_type": "code",
      "source": [
        "a=\"Ram\"\n",
        "a[0]"
      ],
      "metadata": {
        "colab": {
          "base_uri": "https://localhost:8080/",
          "height": 36
        },
        "id": "86yEE8dVK7Au",
        "outputId": "d0e9defa-5c6d-4cac-a873-3ad24b69f5c7"
      },
      "execution_count": null,
      "outputs": [
        {
          "output_type": "execute_result",
          "data": {
            "text/plain": [
              "'R'"
            ],
            "application/vnd.google.colaboratory.intrinsic+json": {
              "type": "string"
            }
          },
          "metadata": {},
          "execution_count": 16
        }
      ]
    },
    {
      "cell_type": "code",
      "source": [
        "a[-1]"
      ],
      "metadata": {
        "colab": {
          "base_uri": "https://localhost:8080/",
          "height": 36
        },
        "id": "Jb2n_mueK7LA",
        "outputId": "264e538d-ea69-40ea-8334-a172c211556b"
      },
      "execution_count": null,
      "outputs": [
        {
          "output_type": "execute_result",
          "data": {
            "text/plain": [
              "'m'"
            ],
            "application/vnd.google.colaboratory.intrinsic+json": {
              "type": "string"
            }
          },
          "metadata": {},
          "execution_count": 17
        }
      ]
    },
    {
      "cell_type": "code",
      "source": [
        "string1= \"I have learned DC\"\n",
        "string1 [0:2]"
      ],
      "metadata": {
        "colab": {
          "base_uri": "https://localhost:8080/",
          "height": 36
        },
        "id": "ZVkiYUZKK7Ow",
        "outputId": "43cd7cc8-fb06-4f47-d121-bfccbafe61c2"
      },
      "execution_count": null,
      "outputs": [
        {
          "output_type": "execute_result",
          "data": {
            "text/plain": [
              "'I '"
            ],
            "application/vnd.google.colaboratory.intrinsic+json": {
              "type": "string"
            }
          },
          "metadata": {},
          "execution_count": 30
        }
      ]
    },
    {
      "cell_type": "code",
      "source": [
        "string1 [0:6]"
      ],
      "metadata": {
        "colab": {
          "base_uri": "https://localhost:8080/",
          "height": 36
        },
        "id": "w6oKVokhK7UQ",
        "outputId": "7258bdca-1064-4fcd-dec0-bdec16aa3318"
      },
      "execution_count": null,
      "outputs": [
        {
          "output_type": "execute_result",
          "data": {
            "text/plain": [
              "'I have'"
            ],
            "application/vnd.google.colaboratory.intrinsic+json": {
              "type": "string"
            }
          },
          "metadata": {},
          "execution_count": 31
        }
      ]
    },
    {
      "cell_type": "code",
      "source": [
        "string1 [4:]"
      ],
      "metadata": {
        "colab": {
          "base_uri": "https://localhost:8080/",
          "height": 36
        },
        "id": "GXwaiC1cK7Wr",
        "outputId": "3fd38a0d-6641-469c-964f-8966d6dc9c60"
      },
      "execution_count": null,
      "outputs": [
        {
          "output_type": "execute_result",
          "data": {
            "text/plain": [
              "'ve learned DC'"
            ],
            "application/vnd.google.colaboratory.intrinsic+json": {
              "type": "string"
            }
          },
          "metadata": {},
          "execution_count": 33
        }
      ]
    },
    {
      "cell_type": "code",
      "source": [
        "string1 [:-4]"
      ],
      "metadata": {
        "colab": {
          "base_uri": "https://localhost:8080/",
          "height": 36
        },
        "id": "pRXxXQJnK7aw",
        "outputId": "418f5379-59e4-4fac-da71-6b9df004604d"
      },
      "execution_count": null,
      "outputs": [
        {
          "output_type": "execute_result",
          "data": {
            "text/plain": [
              "'I have learne'"
            ],
            "application/vnd.google.colaboratory.intrinsic+json": {
              "type": "string"
            }
          },
          "metadata": {},
          "execution_count": 34
        }
      ]
    },
    {
      "cell_type": "code",
      "source": [
        "string1 [::2]"
      ],
      "metadata": {
        "colab": {
          "base_uri": "https://localhost:8080/",
          "height": 36
        },
        "id": "FoNIze1HM9mr",
        "outputId": "1cef4e10-6bf1-48f1-d469-59a51599d070"
      },
      "execution_count": null,
      "outputs": [
        {
          "output_type": "execute_result",
          "data": {
            "text/plain": [
              "'Ihv ere C'"
            ],
            "application/vnd.google.colaboratory.intrinsic+json": {
              "type": "string"
            }
          },
          "metadata": {},
          "execution_count": 35
        }
      ]
    },
    {
      "cell_type": "code",
      "source": [
        "string1 [::4]"
      ],
      "metadata": {
        "colab": {
          "base_uri": "https://localhost:8080/",
          "height": 36
        },
        "id": "_-VyzotuM9yA",
        "outputId": "651d26fc-b31a-4fa2-935c-a196d945f6cf"
      },
      "execution_count": null,
      "outputs": [
        {
          "output_type": "execute_result",
          "data": {
            "text/plain": [
              "'IveeC'"
            ],
            "application/vnd.google.colaboratory.intrinsic+json": {
              "type": "string"
            }
          },
          "metadata": {},
          "execution_count": 36
        }
      ]
    },
    {
      "cell_type": "code",
      "source": [
        "string1 [-3:]"
      ],
      "metadata": {
        "colab": {
          "base_uri": "https://localhost:8080/",
          "height": 36
        },
        "id": "JH4j5sEuM95W",
        "outputId": "0e766128-0e75-4ca3-98b1-953681658260"
      },
      "execution_count": null,
      "outputs": [
        {
          "output_type": "execute_result",
          "data": {
            "text/plain": [
              "' DC'"
            ],
            "application/vnd.google.colaboratory.intrinsic+json": {
              "type": "string"
            }
          },
          "metadata": {},
          "execution_count": 37
        }
      ]
    },
    {
      "cell_type": "code",
      "source": [
        "string1 [::6]"
      ],
      "metadata": {
        "colab": {
          "base_uri": "https://localhost:8080/",
          "height": 36
        },
        "id": "anitsqyPM-B4",
        "outputId": "5db6765a-acb2-444d-e05a-5222bf25bd6d"
      },
      "execution_count": null,
      "outputs": [
        {
          "output_type": "execute_result",
          "data": {
            "text/plain": [
              "'I e'"
            ],
            "application/vnd.google.colaboratory.intrinsic+json": {
              "type": "string"
            }
          },
          "metadata": {},
          "execution_count": 38
        }
      ]
    },
    {
      "cell_type": "code",
      "source": [
        "string1 [2:6:6]"
      ],
      "metadata": {
        "colab": {
          "base_uri": "https://localhost:8080/",
          "height": 36
        },
        "id": "heLnh2YeM-IV",
        "outputId": "311189e4-3068-4943-f454-d136c02232a5"
      },
      "execution_count": null,
      "outputs": [
        {
          "output_type": "execute_result",
          "data": {
            "text/plain": [
              "'h'"
            ],
            "application/vnd.google.colaboratory.intrinsic+json": {
              "type": "string"
            }
          },
          "metadata": {},
          "execution_count": 46
        }
      ]
    },
    {
      "cell_type": "markdown",
      "source": [
        "2. Lists are the ordered collection of items that are mainly defined by the [] bracket. The key features of lists for the python are based on comprehension, slicing, order, built-in methods and indexing. Built-in methods are based on “append ()”, “extend ()”, “remove ()”, and “sort ()”. Lists are mutable and the items can be added, changed, extended and removed based on that. Orders can be managed based on the inserting order and indexing is based on the zero based index positions."
      ],
      "metadata": {
        "id": "O26q2zh3Jyah"
      }
    },
    {
      "cell_type": "markdown",
      "source": [
        "3. Indexing the elements in lists is mainly based on “list[index]” and slicing “list[start: end]”. Modification is mainly done by “list. replace ()”. For deleting the elements it will be based on “del list[index]” and for deleting single elements “del list [start: end]”. The use of “list. remove (range)” for deleting the value and “list. pop ()” for deleting the last elements from the list. Those methods are mainly used for manipulating the list contents."
      ],
      "metadata": {
        "id": "DgSmJvksOk_6"
      }
    },
    {
      "cell_type": "code",
      "source": [
        "#access elements"
      ],
      "metadata": {
        "id": "reJZfLMjor7R"
      },
      "execution_count": null,
      "outputs": []
    },
    {
      "cell_type": "code",
      "source": [
        "birthday_list=[\"candle\", \"cake\", \"flower\", \"cap\"]\n",
        "birthday_list [2:]"
      ],
      "metadata": {
        "colab": {
          "base_uri": "https://localhost:8080/"
        },
        "id": "ZnAM8JeEosLY",
        "outputId": "a1f5a5cd-9196-4375-e410-a29bd948f5cd"
      },
      "execution_count": null,
      "outputs": [
        {
          "output_type": "execute_result",
          "data": {
            "text/plain": [
              "['flower', 'cap']"
            ]
          },
          "metadata": {},
          "execution_count": 32
        }
      ]
    },
    {
      "cell_type": "code",
      "source": [
        "birthday_list [1:]"
      ],
      "metadata": {
        "colab": {
          "base_uri": "https://localhost:8080/"
        },
        "id": "WF6YJSeBosUu",
        "outputId": "7d7af002-d345-4cf4-cbd6-9017079232f2"
      },
      "execution_count": null,
      "outputs": [
        {
          "output_type": "execute_result",
          "data": {
            "text/plain": [
              "['cake', 'flower', 'cap']"
            ]
          },
          "metadata": {},
          "execution_count": 33
        }
      ]
    },
    {
      "cell_type": "code",
      "source": [
        "birthday_list [:-1]"
      ],
      "metadata": {
        "colab": {
          "base_uri": "https://localhost:8080/"
        },
        "id": "cBXrg0V_osc2",
        "outputId": "0bcd49a8-c6e6-472d-9a81-1a953e37dbad"
      },
      "execution_count": null,
      "outputs": [
        {
          "output_type": "execute_result",
          "data": {
            "text/plain": [
              "['candle', 'cake', 'flower']"
            ]
          },
          "metadata": {},
          "execution_count": 34
        }
      ]
    },
    {
      "cell_type": "code",
      "source": [
        "birthday_list [1:3]"
      ],
      "metadata": {
        "colab": {
          "base_uri": "https://localhost:8080/"
        },
        "id": "Vi9V6qHL3fg0",
        "outputId": "e2054495-5904-467c-ea89-0e4501801cd9"
      },
      "execution_count": null,
      "outputs": [
        {
          "output_type": "execute_result",
          "data": {
            "text/plain": [
              "['cake', 'flower']"
            ]
          },
          "metadata": {},
          "execution_count": 35
        }
      ]
    },
    {
      "cell_type": "code",
      "source": [
        "birthday_list.append (\"chips\")"
      ],
      "metadata": {
        "id": "m1EsAPY53frc"
      },
      "execution_count": null,
      "outputs": []
    },
    {
      "cell_type": "code",
      "source": [
        "birthday_list"
      ],
      "metadata": {
        "colab": {
          "base_uri": "https://localhost:8080/"
        },
        "id": "eQGS10tK3xOD",
        "outputId": "9427fe63-e460-4ddd-a226-40c3a037f658"
      },
      "execution_count": null,
      "outputs": [
        {
          "output_type": "execute_result",
          "data": {
            "text/plain": [
              "['candle', 'cake', 'flower', 'cap', 'chips']"
            ]
          },
          "metadata": {},
          "execution_count": 37
        }
      ]
    },
    {
      "cell_type": "code",
      "source": [],
      "metadata": {
        "id": "csKTW2Do3xY8"
      },
      "execution_count": null,
      "outputs": []
    },
    {
      "cell_type": "code",
      "source": [
        "#modify elements"
      ],
      "metadata": {
        "id": "xBhVQrcjoskJ"
      },
      "execution_count": null,
      "outputs": []
    },
    {
      "cell_type": "code",
      "source": [
        "#lists are mutable\n",
        "lists=[\"apple\", \"banana\", \"mango\"]\n",
        "list [0]"
      ],
      "metadata": {
        "colab": {
          "base_uri": "https://localhost:8080/"
        },
        "id": "s8apeIRH1rvL",
        "outputId": "60f8d135-ed31-42d7-9080-10790dbc3bae"
      },
      "execution_count": null,
      "outputs": [
        {
          "output_type": "execute_result",
          "data": {
            "text/plain": [
              "12"
            ]
          },
          "metadata": {},
          "execution_count": 25
        }
      ]
    },
    {
      "cell_type": "code",
      "source": [
        "lists [0]=\"graphs\"\n",
        "lists"
      ],
      "metadata": {
        "colab": {
          "base_uri": "https://localhost:8080/"
        },
        "id": "SCp8vqB8osti",
        "outputId": "5ad731b2-1212-4cf0-ab02-e15afa228be8"
      },
      "execution_count": null,
      "outputs": [
        {
          "output_type": "execute_result",
          "data": {
            "text/plain": [
              "['graphs', 'banana', 'mango']"
            ]
          },
          "metadata": {},
          "execution_count": 26
        }
      ]
    },
    {
      "cell_type": "code",
      "source": [
        "lists.append (\"chili\")\n",
        "lists"
      ],
      "metadata": {
        "colab": {
          "base_uri": "https://localhost:8080/"
        },
        "outputId": "169fc9c9-6d4a-4a7b-fa37-91c96eda850c",
        "id": "12N3R7xW1z7Z"
      },
      "execution_count": null,
      "outputs": [
        {
          "output_type": "execute_result",
          "data": {
            "text/plain": [
              "['graphs', 'banana', 'goava', 'mango', 'chili']"
            ]
          },
          "metadata": {},
          "execution_count": 17
        }
      ]
    },
    {
      "cell_type": "code",
      "source": [
        "lists.append (\"chili\")\n",
        "lists"
      ],
      "metadata": {
        "colab": {
          "base_uri": "https://localhost:8080/"
        },
        "id": "R1hU4KJkos5T",
        "outputId": "9df02665-f5ec-4b84-9ca5-f510c83fa2d3"
      },
      "execution_count": null,
      "outputs": [
        {
          "output_type": "execute_result",
          "data": {
            "text/plain": [
              "['graphs', 'banana', 'mango', 'chili']"
            ]
          },
          "metadata": {},
          "execution_count": 28
        }
      ]
    },
    {
      "cell_type": "code",
      "source": [
        "#delete elements"
      ],
      "metadata": {
        "id": "FGqQUzyVos_j"
      },
      "execution_count": null,
      "outputs": []
    },
    {
      "cell_type": "code",
      "source": [
        "book_list=[\"ab\", \"ef\", \"hujs\", \"keb\"]\n",
        "book_list.clear()\n",
        "book_list"
      ],
      "metadata": {
        "colab": {
          "base_uri": "https://localhost:8080/"
        },
        "id": "GC_-yuF9otC_",
        "outputId": "1dcd69e2-b179-4f83-884e-6cdf67189944"
      },
      "execution_count": null,
      "outputs": [
        {
          "output_type": "execute_result",
          "data": {
            "text/plain": [
              "[]"
            ]
          },
          "metadata": {},
          "execution_count": 2
        }
      ]
    },
    {
      "cell_type": "code",
      "source": [
        "book_list=[\"ab\", \"ef\", \"hujs\", \"keb\"]\n",
        "book_list.pop()\n",
        "book_list"
      ],
      "metadata": {
        "colab": {
          "base_uri": "https://localhost:8080/"
        },
        "id": "7Mmyqe9Bo58s",
        "outputId": "655a7fb9-6d6a-4e57-8046-017ded0e8729"
      },
      "execution_count": null,
      "outputs": [
        {
          "output_type": "execute_result",
          "data": {
            "text/plain": [
              "['ab', 'ef', 'hujs']"
            ]
          },
          "metadata": {},
          "execution_count": 10
        }
      ]
    },
    {
      "cell_type": "code",
      "source": [
        "book_list.pop(2)"
      ],
      "metadata": {
        "colab": {
          "base_uri": "https://localhost:8080/",
          "height": 36
        },
        "id": "a5ynstCso6GU",
        "outputId": "b9e02a95-587d-482c-d5d3-736edee8c494"
      },
      "execution_count": null,
      "outputs": [
        {
          "output_type": "execute_result",
          "data": {
            "text/plain": [
              "'hujs'"
            ],
            "application/vnd.google.colaboratory.intrinsic+json": {
              "type": "string"
            }
          },
          "metadata": {},
          "execution_count": 11
        }
      ]
    },
    {
      "cell_type": "markdown",
      "source": [
        "4. Tuples are immutable, after creation the elements can not changed, removed or added. It is defined by (). It is mainly used for fixing the collection of related items and it is faster and memory efficient for handling immutability.Tuples are the ordered collection of the elements.  On the other hand, lists are mutable and all the elements can be added, changeable and removed. It is mainly denoted by []. It is mainly helpful for modification purposes and offers built-in methods for handling manipulations. Both, tuples and lists support slicing and indexing.\n"
      ],
      "metadata": {
        "id": "DBlPcHP6tDie"
      }
    },
    {
      "cell_type": "code",
      "source": [
        "#examples of lists\n",
        "Grocery_list= [\"orange\", \"apple\", \"mango\", 56, 4+7j]\n",
        "Grocery_list [0]"
      ],
      "metadata": {
        "colab": {
          "base_uri": "https://localhost:8080/",
          "height": 36
        },
        "id": "WQ9WaPUTisJj",
        "outputId": "dd883e61-99bb-49b6-dfbc-9e906a4ca2cb"
      },
      "execution_count": null,
      "outputs": [
        {
          "output_type": "execute_result",
          "data": {
            "text/plain": [
              "'orange'"
            ],
            "application/vnd.google.colaboratory.intrinsic+json": {
              "type": "string"
            }
          },
          "metadata": {},
          "execution_count": 2
        }
      ]
    },
    {
      "cell_type": "code",
      "source": [
        "Grocery_list [1:]"
      ],
      "metadata": {
        "colab": {
          "base_uri": "https://localhost:8080/"
        },
        "id": "Bm-GpOGiisXC",
        "outputId": "b0de53cc-3a75-4360-e141-122bfe62f700"
      },
      "execution_count": null,
      "outputs": [
        {
          "output_type": "execute_result",
          "data": {
            "text/plain": [
              "['apple', 'mango', 56, (4+7j)]"
            ]
          },
          "metadata": {},
          "execution_count": 3
        }
      ]
    },
    {
      "cell_type": "code",
      "source": [
        "Grocery_list [0:5]"
      ],
      "metadata": {
        "colab": {
          "base_uri": "https://localhost:8080/"
        },
        "id": "RmhYhTr0isbG",
        "outputId": "7a5f8a0d-af40-4594-8493-5559ad92b313"
      },
      "execution_count": null,
      "outputs": [
        {
          "output_type": "execute_result",
          "data": {
            "text/plain": [
              "['orange', 'apple', 'mango', 56, (4+7j)]"
            ]
          },
          "metadata": {},
          "execution_count": 6
        }
      ]
    },
    {
      "cell_type": "code",
      "source": [
        "Grocery_list [-4]"
      ],
      "metadata": {
        "colab": {
          "base_uri": "https://localhost:8080/",
          "height": 36
        },
        "id": "QtB7nckeisd4",
        "outputId": "c44d5231-9432-43e1-d4fd-765f1b44b732"
      },
      "execution_count": null,
      "outputs": [
        {
          "output_type": "execute_result",
          "data": {
            "text/plain": [
              "'apple'"
            ],
            "application/vnd.google.colaboratory.intrinsic+json": {
              "type": "string"
            }
          },
          "metadata": {},
          "execution_count": 7
        }
      ]
    },
    {
      "cell_type": "code",
      "source": [
        "#use cases\n",
        "list = [\"Book\", \"copy\"]\n",
        "list.append (\"pen\")\n",
        "list"
      ],
      "metadata": {
        "colab": {
          "base_uri": "https://localhost:8080/"
        },
        "id": "O9ZaIP7PjgNM",
        "outputId": "3a573cee-d1a9-469a-f55a-9bd8bcf31ed1"
      },
      "execution_count": null,
      "outputs": [
        {
          "output_type": "execute_result",
          "data": {
            "text/plain": [
              "['Book', 'copy', 'pen']"
            ]
          },
          "metadata": {},
          "execution_count": 9
        }
      ]
    },
    {
      "cell_type": "code",
      "source": [
        "book=[]\n",
        "book.append(\"Theory of everything\")\n",
        "book.append (\"theory of relativity\")\n",
        "book.append (\"An upstaire in indian govt.\")\n",
        "book"
      ],
      "metadata": {
        "colab": {
          "base_uri": "https://localhost:8080/"
        },
        "id": "uwLUI33UofF7",
        "outputId": "6397a928-d9b2-4079-c64b-eb8b61c31d51"
      },
      "execution_count": null,
      "outputs": [
        {
          "output_type": "execute_result",
          "data": {
            "text/plain": [
              "['Theory of everything', 'theory of relativity', 'An upstaire in indian govt.']"
            ]
          },
          "metadata": {},
          "execution_count": 11
        }
      ]
    },
    {
      "cell_type": "code",
      "source": [
        "my_list=[\"book\", \"copy\", \"pen\"]\n",
        "mom_list=[\"pencil\", \"paper\", \"2 candle\"]\n",
        "my_list.extend (mom_list)\n",
        "my_list"
      ],
      "metadata": {
        "colab": {
          "base_uri": "https://localhost:8080/"
        },
        "id": "OCvNA05Cs_MA",
        "outputId": "5d9d2594-59c8-4c78-9a49-44c5a426bf54"
      },
      "execution_count": null,
      "outputs": [
        {
          "output_type": "execute_result",
          "data": {
            "text/plain": [
              "['book', 'copy', 'pen', 'pencil', 'paper', '2 candle']"
            ]
          },
          "metadata": {},
          "execution_count": 19
        }
      ]
    },
    {
      "cell_type": "code",
      "source": [
        "my_list=[\"book\", \"copy\", \"pen\"]\n",
        "mom_list=[\"pencil\", \"paper\", \"2 candle\"]\n",
        "mom_list.extend (my_list)\n",
        "mom_list"
      ],
      "metadata": {
        "colab": {
          "base_uri": "https://localhost:8080/"
        },
        "id": "ZQV99X-_us3L",
        "outputId": "b19f406a-81da-4f50-f6ee-1c8e2504380e"
      },
      "execution_count": null,
      "outputs": [
        {
          "output_type": "execute_result",
          "data": {
            "text/plain": [
              "['pencil', 'paper', '2 candle', 'book', 'copy', 'pen']"
            ]
          },
          "metadata": {},
          "execution_count": 23
        }
      ]
    },
    {
      "cell_type": "code",
      "source": [
        "my_list=[\"book\", \"copy\", \"pen\"]\n",
        "mom_list=[\"pencil\", \"paper\", \"2 candle\"]\n",
        "my_list+mom_list"
      ],
      "metadata": {
        "colab": {
          "base_uri": "https://localhost:8080/"
        },
        "id": "7QXssHUGus6f",
        "outputId": "252773d5-669c-4bae-c6d1-a80302b52277"
      },
      "execution_count": null,
      "outputs": [
        {
          "output_type": "execute_result",
          "data": {
            "text/plain": [
              "['book', 'copy', 'pen', 'pencil', 'paper', '2 candle']"
            ]
          },
          "metadata": {},
          "execution_count": 25
        }
      ]
    },
    {
      "cell_type": "code",
      "source": [
        "#reperation\n",
        "\"*\"* 100"
      ],
      "metadata": {
        "colab": {
          "base_uri": "https://localhost:8080/",
          "height": 36
        },
        "id": "b9FSUUPdus9q",
        "outputId": "979aacdc-45c4-4e6c-b819-af21179dfdae"
      },
      "execution_count": null,
      "outputs": [
        {
          "output_type": "execute_result",
          "data": {
            "text/plain": [
              "'****************************************************************************************************'"
            ],
            "application/vnd.google.colaboratory.intrinsic+json": {
              "type": "string"
            }
          },
          "metadata": {},
          "execution_count": 28
        }
      ]
    },
    {
      "cell_type": "code",
      "source": [
        "msg=\"i am sohini\\n\"\n",
        "print (msg*5)"
      ],
      "metadata": {
        "colab": {
          "base_uri": "https://localhost:8080/"
        },
        "id": "9ixHhKqAutAh",
        "outputId": "95f258be-ab71-431f-82a7-cfc93e274821"
      },
      "execution_count": null,
      "outputs": [
        {
          "output_type": "stream",
          "name": "stdout",
          "text": [
            "i am sohini\n",
            "i am sohini\n",
            "i am sohini\n",
            "i am sohini\n",
            "i am sohini\n",
            "\n"
          ]
        }
      ]
    },
    {
      "cell_type": "code",
      "source": [
        "#shallow and deep copy\n",
        "grocery_list=[ \"milk\", \"orange\", \"56\", \"abcd\"]\n",
        "grocery_list"
      ],
      "metadata": {
        "id": "49g65X-_utDc",
        "colab": {
          "base_uri": "https://localhost:8080/"
        },
        "outputId": "0ad0251d-eb07-40cd-b0ed-c71ed591ac63"
      },
      "execution_count": null,
      "outputs": [
        {
          "output_type": "execute_result",
          "data": {
            "text/plain": [
              "['milk', 'orange', '56', 'abcd']"
            ]
          },
          "metadata": {},
          "execution_count": 1
        }
      ]
    },
    {
      "cell_type": "code",
      "source": [
        "#shallow copy\n",
        "grocery_list[1]= \"palm\"\n",
        "grocery_list"
      ],
      "metadata": {
        "colab": {
          "base_uri": "https://localhost:8080/"
        },
        "id": "_av83A5nyt1W",
        "outputId": "f6ce51af-b763-4c4b-f2f1-ce5bc9a78558"
      },
      "execution_count": null,
      "outputs": [
        {
          "output_type": "execute_result",
          "data": {
            "text/plain": [
              "['milk', 'palm', '56', 'abcd']"
            ]
          },
          "metadata": {},
          "execution_count": 2
        }
      ]
    },
    {
      "cell_type": "code",
      "source": [
        "a=grocery_list.copy ()\n",
        "a[0]=\"banana\"\n",
        "a"
      ],
      "metadata": {
        "colab": {
          "base_uri": "https://localhost:8080/"
        },
        "id": "EnVq2VQ_y63a",
        "outputId": "37897e52-9a34-41c5-c116-8183eb1103fb"
      },
      "execution_count": null,
      "outputs": [
        {
          "output_type": "execute_result",
          "data": {
            "text/plain": [
              "['banana', 'palm', '56', 'abcd']"
            ]
          },
          "metadata": {},
          "execution_count": 3
        }
      ]
    },
    {
      "cell_type": "code",
      "source": [
        "#deep copy\n",
        "grocery_list"
      ],
      "metadata": {
        "colab": {
          "base_uri": "https://localhost:8080/"
        },
        "id": "POUOwHIczHQL",
        "outputId": "b1102c78-c864-44f4-ab1c-521556d535ec"
      },
      "execution_count": null,
      "outputs": [
        {
          "output_type": "execute_result",
          "data": {
            "text/plain": [
              "['milk', 'palm', '56', 'abcd']"
            ]
          },
          "metadata": {},
          "execution_count": 4
        }
      ]
    },
    {
      "cell_type": "code",
      "source": [
        "#shorting of lists\n",
        "book_list=[\"ab\", \"sd\", \"th\"]\n",
        "book_list.index (\"sd\")"
      ],
      "metadata": {
        "colab": {
          "base_uri": "https://localhost:8080/"
        },
        "id": "1TOx6WiIzKv_",
        "outputId": "f640606b-ad39-4eb0-82e6-70280f39121c"
      },
      "execution_count": null,
      "outputs": [
        {
          "output_type": "execute_result",
          "data": {
            "text/plain": [
              "1"
            ]
          },
          "metadata": {},
          "execution_count": 5
        }
      ]
    },
    {
      "cell_type": "code",
      "source": [
        "len (book_list)"
      ],
      "metadata": {
        "colab": {
          "base_uri": "https://localhost:8080/"
        },
        "id": "8ZujtrUkzSVb",
        "outputId": "4ab547f4-2c43-4e63-9310-afa95bf6911b"
      },
      "execution_count": null,
      "outputs": [
        {
          "output_type": "execute_result",
          "data": {
            "text/plain": [
              "3"
            ]
          },
          "metadata": {},
          "execution_count": 6
        }
      ]
    },
    {
      "cell_type": "code",
      "source": [
        "book_list.count (\"sd\")"
      ],
      "metadata": {
        "colab": {
          "base_uri": "https://localhost:8080/"
        },
        "id": "BxOCzKonzSYv",
        "outputId": "c3ad4c6d-76a9-4b4e-fda9-eda307e8c7a6"
      },
      "execution_count": null,
      "outputs": [
        {
          "output_type": "execute_result",
          "data": {
            "text/plain": [
              "1"
            ]
          },
          "metadata": {},
          "execution_count": 7
        }
      ]
    },
    {
      "cell_type": "code",
      "source": [
        "book_list=[\"ab\", \"sd\", \"th\"]\n",
        "book_list.remove(\"sd\")\n",
        "book_list"
      ],
      "metadata": {
        "colab": {
          "base_uri": "https://localhost:8080/"
        },
        "id": "Z4h4Hs5MzSgX",
        "outputId": "0e06e0dd-f7e2-48df-a719-2e5358e84b9a"
      },
      "execution_count": null,
      "outputs": [
        {
          "output_type": "execute_result",
          "data": {
            "text/plain": [
              "['ab', 'th']"
            ]
          },
          "metadata": {},
          "execution_count": 11
        }
      ]
    },
    {
      "cell_type": "code",
      "source": [
        "book_list.clear ()\n",
        "book_list"
      ],
      "metadata": {
        "colab": {
          "base_uri": "https://localhost:8080/"
        },
        "id": "Y0pq1JXjzSks",
        "outputId": "5b81eff2-7762-4152-9406-aa5a85b870f3"
      },
      "execution_count": null,
      "outputs": [
        {
          "output_type": "execute_result",
          "data": {
            "text/plain": [
              "[]"
            ]
          },
          "metadata": {},
          "execution_count": 12
        }
      ]
    },
    {
      "cell_type": "code",
      "source": [
        "#conditional list comprerhension\n",
        "email_address=[\"sohi@gmail.com\", \"rk@yahoo.com\", \"sk@yahoo.com\"]\n",
        "[email for email in email_address if email.endswith (\"@yahoo.com\")]"
      ],
      "metadata": {
        "colab": {
          "base_uri": "https://localhost:8080/"
        },
        "id": "f67hGG6W2VzK",
        "outputId": "e69082f3-a13b-49ed-f233-ae93c7db7237"
      },
      "execution_count": null,
      "outputs": [
        {
          "output_type": "execute_result",
          "data": {
            "text/plain": [
              "['rk@yahoo.com', 'sk@yahoo.com']"
            ]
          },
          "metadata": {},
          "execution_count": 15
        }
      ]
    },
    {
      "cell_type": "code",
      "source": [
        "#tuples\n",
        "t1= (12, 45, 67)\n",
        "t1\n"
      ],
      "metadata": {
        "id": "G4bhKkZxAmug",
        "colab": {
          "base_uri": "https://localhost:8080/"
        },
        "outputId": "a0d9eeca-b8fa-47f9-c6b4-5cdcc50883f2"
      },
      "execution_count": null,
      "outputs": [
        {
          "output_type": "execute_result",
          "data": {
            "text/plain": [
              "(12, 45, 67)"
            ]
          },
          "metadata": {},
          "execution_count": 13
        }
      ]
    },
    {
      "cell_type": "code",
      "source": [
        "t2=(565, 78, 23)\n",
        "t2"
      ],
      "metadata": {
        "colab": {
          "base_uri": "https://localhost:8080/"
        },
        "id": "LwPyH_KCF-Fr",
        "outputId": "50bb6970-fa51-4c77-8e42-326e1a4afc40"
      },
      "execution_count": null,
      "outputs": [
        {
          "output_type": "execute_result",
          "data": {
            "text/plain": [
              "(565, 78, 23)"
            ]
          },
          "metadata": {},
          "execution_count": 14
        }
      ]
    },
    {
      "cell_type": "code",
      "source": [
        "t1"
      ],
      "metadata": {
        "colab": {
          "base_uri": "https://localhost:8080/"
        },
        "id": "T-yAV8JoF-PJ",
        "outputId": "9edc8b43-df7e-4ee3-c98a-d5873450f3ff"
      },
      "execution_count": null,
      "outputs": [
        {
          "output_type": "execute_result",
          "data": {
            "text/plain": [
              "(12, 45, 67)"
            ]
          },
          "metadata": {},
          "execution_count": 16
        }
      ]
    },
    {
      "cell_type": "code",
      "source": [
        "t3=(t1,t2)\n",
        "t3"
      ],
      "metadata": {
        "colab": {
          "base_uri": "https://localhost:8080/"
        },
        "id": "eZvltvecF-YQ",
        "outputId": "1874e3d3-7f0d-4d6f-b1c4-be06a23e552a"
      },
      "execution_count": null,
      "outputs": [
        {
          "output_type": "execute_result",
          "data": {
            "text/plain": [
              "((12, 45, 67), (565, 78, 23))"
            ]
          },
          "metadata": {},
          "execution_count": 19
        }
      ]
    },
    {
      "cell_type": "code",
      "source": [
        "len (t3)"
      ],
      "metadata": {
        "colab": {
          "base_uri": "https://localhost:8080/"
        },
        "id": "L7vD0aelG7M5",
        "outputId": "bdcce5e9-a985-41b7-b739-8d603e9695f0"
      },
      "execution_count": null,
      "outputs": [
        {
          "output_type": "execute_result",
          "data": {
            "text/plain": [
              "2"
            ]
          },
          "metadata": {},
          "execution_count": 20
        }
      ]
    },
    {
      "cell_type": "code",
      "source": [
        "45 in t1"
      ],
      "metadata": {
        "colab": {
          "base_uri": "https://localhost:8080/"
        },
        "id": "GVEgbvJDG7YY",
        "outputId": "cf7d72f5-e35e-4523-db60-22bac82e3f74"
      },
      "execution_count": null,
      "outputs": [
        {
          "output_type": "execute_result",
          "data": {
            "text/plain": [
              "True"
            ]
          },
          "metadata": {},
          "execution_count": 22
        }
      ]
    },
    {
      "cell_type": "code",
      "source": [
        "t1+t2"
      ],
      "metadata": {
        "colab": {
          "base_uri": "https://localhost:8080/"
        },
        "id": "zxl0MGjsG7hz",
        "outputId": "560fb5ee-5320-4aa2-d84e-673edeaa4c98"
      },
      "execution_count": null,
      "outputs": [
        {
          "output_type": "execute_result",
          "data": {
            "text/plain": [
              "(12, 45, 67, 565, 78, 23)"
            ]
          },
          "metadata": {},
          "execution_count": 23
        }
      ]
    },
    {
      "cell_type": "markdown",
      "source": [
        "5. Sets in Python are mainly based on unordered collections based on the unique elements and it is mainly defined by “{}”. It is mainly unordered, elements do not follow any specific order. Duplicate values and elements are automatically removed from the sets. Elements are added and removed by “add ()”, and “remove ()”. It supports various mathematical operations mainly &, |, -,^. Elements are hashable and immutable and make a set of proper membership testing. Those elements are mainly useful for handling unique elements and based on mathematical set of operations.  \n"
      ],
      "metadata": {
        "id": "M_kf6bivJ0z4"
      }
    },
    {
      "cell_type": "code",
      "source": [
        "s= {1, 5, 45, 5, 1, \"sihini\", \"sohiNi\"}\n",
        "s"
      ],
      "metadata": {
        "colab": {
          "base_uri": "https://localhost:8080/"
        },
        "id": "j3345QmrJ69W",
        "outputId": "54459115-1017-492b-fa09-092c1ba7f8b6"
      },
      "execution_count": null,
      "outputs": [
        {
          "output_type": "execute_result",
          "data": {
            "text/plain": [
              "{1, 45, 5, 'sihini', 'sohiNi'}"
            ]
          },
          "metadata": {},
          "execution_count": 24
        }
      ]
    },
    {
      "cell_type": "code",
      "source": [
        "s= {1,4,5,7,9}\n",
        "s.add(100)\n",
        "s"
      ],
      "metadata": {
        "colab": {
          "base_uri": "https://localhost:8080/"
        },
        "id": "QBXYwisiJ7F0",
        "outputId": "c8530123-6297-406c-ba14-6a31609f2cd7"
      },
      "execution_count": null,
      "outputs": [
        {
          "output_type": "execute_result",
          "data": {
            "text/plain": [
              "{1, 4, 5, 7, 9, 100}"
            ]
          },
          "metadata": {},
          "execution_count": 31
        }
      ]
    },
    {
      "cell_type": "code",
      "source": [
        "s.pop()"
      ],
      "metadata": {
        "colab": {
          "base_uri": "https://localhost:8080/"
        },
        "id": "fx96XSx5J7J2",
        "outputId": "fcd2f066-e3de-4689-c9ec-b0c66ff596ea"
      },
      "execution_count": null,
      "outputs": [
        {
          "output_type": "execute_result",
          "data": {
            "text/plain": [
              "1"
            ]
          },
          "metadata": {},
          "execution_count": 32
        }
      ]
    },
    {
      "cell_type": "code",
      "source": [
        "s.update(\"pwskill\")\n",
        "s"
      ],
      "metadata": {
        "colab": {
          "base_uri": "https://localhost:8080/"
        },
        "id": "nR4jkXvrJ7O5",
        "outputId": "d696a9dc-6669-4c68-8418-808baa46c913"
      },
      "execution_count": null,
      "outputs": [
        {
          "output_type": "execute_result",
          "data": {
            "text/plain": [
              "{100, 4, 5, 7, 9, 'i', 'k', 'l', 'p', 's', 'w'}"
            ]
          },
          "metadata": {},
          "execution_count": 34
        }
      ]
    },
    {
      "cell_type": "code",
      "source": [
        "s.update ([\"pwskill\"])\n",
        "s"
      ],
      "metadata": {
        "colab": {
          "base_uri": "https://localhost:8080/"
        },
        "id": "uGRDi_QtJ7SH",
        "outputId": "6cf56a13-82b1-443c-8a02-5c9c3cae2b79"
      },
      "execution_count": null,
      "outputs": [
        {
          "output_type": "execute_result",
          "data": {
            "text/plain": [
              "{100, 4, 5, 7, 9, 'i', 'k', 'l', 'p', 'pwskill', 's', 'w'}"
            ]
          },
          "metadata": {},
          "execution_count": 36
        }
      ]
    },
    {
      "cell_type": "code",
      "source": [
        "s.discard (5)\n",
        "s"
      ],
      "metadata": {
        "colab": {
          "base_uri": "https://localhost:8080/"
        },
        "id": "t9Fe_jG5PXZI",
        "outputId": "82a6b699-07fd-4a6a-f19c-fbe25f1dcc24"
      },
      "execution_count": null,
      "outputs": [
        {
          "output_type": "execute_result",
          "data": {
            "text/plain": [
              "{100, 7, 9, 'i', 'k', 'l', 'p', 'pwskill', 's', 'w'}"
            ]
          },
          "metadata": {},
          "execution_count": 38
        }
      ]
    },
    {
      "cell_type": "code",
      "source": [
        "#set operations\n",
        "s1={\"coding\", \"painting\", \"photography\"}\n",
        "s2={\"playing\", \"photography\", \"dancing\"}"
      ],
      "metadata": {
        "id": "U15szypoPXh1"
      },
      "execution_count": null,
      "outputs": []
    },
    {
      "cell_type": "code",
      "source": [
        "s1&s2"
      ],
      "metadata": {
        "colab": {
          "base_uri": "https://localhost:8080/"
        },
        "id": "lOJMJ5OQPXqP",
        "outputId": "10c06c6e-f313-4fea-ecc1-7f17982ec159"
      },
      "execution_count": null,
      "outputs": [
        {
          "output_type": "execute_result",
          "data": {
            "text/plain": [
              "{'photography'}"
            ]
          },
          "metadata": {},
          "execution_count": 41
        }
      ]
    },
    {
      "cell_type": "code",
      "source": [
        "s1-s2"
      ],
      "metadata": {
        "colab": {
          "base_uri": "https://localhost:8080/"
        },
        "id": "zH00oiOEThIA",
        "outputId": "9d16f5c2-2d5d-4afb-aba4-5ba67de360ac"
      },
      "execution_count": null,
      "outputs": [
        {
          "output_type": "execute_result",
          "data": {
            "text/plain": [
              "{'coding', 'painting'}"
            ]
          },
          "metadata": {},
          "execution_count": 42
        }
      ]
    },
    {
      "cell_type": "code",
      "source": [
        "s1|s2"
      ],
      "metadata": {
        "colab": {
          "base_uri": "https://localhost:8080/"
        },
        "id": "i6u1nWWeThS_",
        "outputId": "169ee1fe-a263-4b9f-b342-0c0aae8b1c6f"
      },
      "execution_count": null,
      "outputs": [
        {
          "output_type": "execute_result",
          "data": {
            "text/plain": [
              "{'coding', 'dancing', 'painting', 'photography', 'playing'}"
            ]
          },
          "metadata": {},
          "execution_count": 43
        }
      ]
    },
    {
      "cell_type": "code",
      "source": [
        "s1^s2"
      ],
      "metadata": {
        "colab": {
          "base_uri": "https://localhost:8080/"
        },
        "id": "lKmmCjZVUGKo",
        "outputId": "57e2d3c4-e5c8-49fb-d30c-631513adbaa9"
      },
      "execution_count": null,
      "outputs": [
        {
          "output_type": "execute_result",
          "data": {
            "text/plain": [
              "{'coding', 'dancing', 'painting', 'playing'}"
            ]
          },
          "metadata": {},
          "execution_count": 44
        }
      ]
    },
    {
      "cell_type": "code",
      "source": [
        "my_fs= frozenset([1,6,4,56])\n",
        "my_fs"
      ],
      "metadata": {
        "colab": {
          "base_uri": "https://localhost:8080/"
        },
        "id": "sdRXvPVPUGUj",
        "outputId": "4a54bd31-3985-4872-e0c8-687d7526dd89"
      },
      "execution_count": null,
      "outputs": [
        {
          "output_type": "execute_result",
          "data": {
            "text/plain": [
              "frozenset({1, 4, 6, 56})"
            ]
          },
          "metadata": {},
          "execution_count": 45
        }
      ]
    },
    {
      "cell_type": "markdown",
      "source": [
        "6.Use cases of tuples and sets in python\n"
      ],
      "metadata": {
        "id": "0WCcuwZKDTA-"
      }
    },
    {
      "cell_type": "code",
      "source": [
        "#use case of tuples\n",
        "tuple1= [\"sohini\", \"rk\", 67, 9+8j, 67]\n",
        "tuple1.count(67)"
      ],
      "metadata": {
        "colab": {
          "base_uri": "https://localhost:8080/"
        },
        "id": "OIDJKuocDUpM",
        "outputId": "1b16a78d-3250-400a-d7c0-39278bdb199c"
      },
      "execution_count": null,
      "outputs": [
        {
          "output_type": "execute_result",
          "data": {
            "text/plain": [
              "2"
            ]
          },
          "metadata": {},
          "execution_count": 1
        }
      ]
    },
    {
      "cell_type": "code",
      "source": [
        "tuple1.count(\"sohini\")"
      ],
      "metadata": {
        "colab": {
          "base_uri": "https://localhost:8080/"
        },
        "id": "8LD_4FSJDU3L",
        "outputId": "ff5c32dd-28d8-48b2-acf0-c3dcc1353884"
      },
      "execution_count": null,
      "outputs": [
        {
          "output_type": "execute_result",
          "data": {
            "text/plain": [
              "1"
            ]
          },
          "metadata": {},
          "execution_count": 2
        }
      ]
    },
    {
      "cell_type": "code",
      "source": [
        "tuple1.index(\"rk\")"
      ],
      "metadata": {
        "colab": {
          "base_uri": "https://localhost:8080/"
        },
        "id": "WSryFPBPDU8t",
        "outputId": "d3c339ec-e221-40f2-eb86-28a6ea0dc6ec"
      },
      "execution_count": null,
      "outputs": [
        {
          "output_type": "execute_result",
          "data": {
            "text/plain": [
              "1"
            ]
          },
          "metadata": {},
          "execution_count": 3
        }
      ]
    },
    {
      "cell_type": "code",
      "source": [
        "print(tuple1*3)"
      ],
      "metadata": {
        "colab": {
          "base_uri": "https://localhost:8080/"
        },
        "id": "Jd3rR_ULDVAt",
        "outputId": "2042bf3d-c836-4e16-ac14-4c68be4deb88"
      },
      "execution_count": null,
      "outputs": [
        {
          "output_type": "stream",
          "name": "stdout",
          "text": [
            "['sohini', 'rk', 67, (9+8j), 67, 'sohini', 'rk', 67, (9+8j), 67, 'sohini', 'rk', 67, (9+8j), 67]\n"
          ]
        }
      ]
    },
    {
      "cell_type": "code",
      "source": [
        "tuple1[1:4]"
      ],
      "metadata": {
        "colab": {
          "base_uri": "https://localhost:8080/"
        },
        "id": "tMjrOj0wDVF4",
        "outputId": "25c31e2d-8d87-4f60-f173-aa03777c1e17"
      },
      "execution_count": null,
      "outputs": [
        {
          "output_type": "execute_result",
          "data": {
            "text/plain": [
              "['rk', 67, (9+8j)]"
            ]
          },
          "metadata": {},
          "execution_count": 7
        }
      ]
    },
    {
      "cell_type": "code",
      "source": [
        "for i in tuple1:\n",
        "  print (i)"
      ],
      "metadata": {
        "colab": {
          "base_uri": "https://localhost:8080/"
        },
        "id": "a1ZpOEoGEqrj",
        "outputId": "7ec25b93-aff4-4d19-be8f-cc97d66c68c5"
      },
      "execution_count": null,
      "outputs": [
        {
          "output_type": "stream",
          "name": "stdout",
          "text": [
            "sohini\n",
            "rk\n",
            "67\n",
            "(9+8j)\n",
            "67\n"
          ]
        }
      ]
    },
    {
      "cell_type": "code",
      "source": [
        "for i in tuple1:\n",
        "  print (i, type (i))"
      ],
      "metadata": {
        "colab": {
          "base_uri": "https://localhost:8080/"
        },
        "id": "nzpyrGbnE6gu",
        "outputId": "512d867e-6b80-4fc1-da49-c627ae4fdd0d"
      },
      "execution_count": null,
      "outputs": [
        {
          "output_type": "stream",
          "name": "stdout",
          "text": [
            "sohini <class 'str'>\n",
            "rk <class 'str'>\n",
            "67 <class 'int'>\n",
            "(9+8j) <class 'complex'>\n",
            "67 <class 'int'>\n"
          ]
        }
      ]
    },
    {
      "cell_type": "code",
      "source": [
        "t1=[9, 10, 45, 578]\n",
        "min (t1)"
      ],
      "metadata": {
        "colab": {
          "base_uri": "https://localhost:8080/"
        },
        "id": "p4eY-of8FKHW",
        "outputId": "9adf0ba0-11db-43af-abcc-a211631d67da"
      },
      "execution_count": null,
      "outputs": [
        {
          "output_type": "execute_result",
          "data": {
            "text/plain": [
              "9"
            ]
          },
          "metadata": {},
          "execution_count": 10
        }
      ]
    },
    {
      "cell_type": "code",
      "source": [
        "max (t1)"
      ],
      "metadata": {
        "colab": {
          "base_uri": "https://localhost:8080/"
        },
        "id": "KGdzTcLTFYQQ",
        "outputId": "985d27fd-0213-4865-d551-2e3ec0d268f0"
      },
      "execution_count": null,
      "outputs": [
        {
          "output_type": "execute_result",
          "data": {
            "text/plain": [
              "578"
            ]
          },
          "metadata": {},
          "execution_count": 11
        }
      ]
    },
    {
      "cell_type": "code",
      "source": [
        "#use case of sets\n",
        "list1=[1, 3, 4, 3, 1, \"mango\", \"apple\", \"mango\"]\n",
        "list1"
      ],
      "metadata": {
        "colab": {
          "base_uri": "https://localhost:8080/"
        },
        "id": "pJfIh6ZQFZ88",
        "outputId": "68ff52b6-863c-4be6-dbd3-ad6bcfd58117"
      },
      "execution_count": null,
      "outputs": [
        {
          "output_type": "execute_result",
          "data": {
            "text/plain": [
              "[1, 3, 4, 3, 1, 'mango', 'apple', 'mango']"
            ]
          },
          "metadata": {},
          "execution_count": 25
        }
      ]
    },
    {
      "cell_type": "code",
      "source": [
        "s=set(list1)\n",
        "s"
      ],
      "metadata": {
        "colab": {
          "base_uri": "https://localhost:8080/"
        },
        "id": "C7Ajnh65K-Ll",
        "outputId": "22c1737b-3ad6-4a45-bbf9-f0196f3b45d2"
      },
      "execution_count": null,
      "outputs": [
        {
          "output_type": "execute_result",
          "data": {
            "text/plain": [
              "{1, 3, 4, 'apple', 'mango'}"
            ]
          },
          "metadata": {},
          "execution_count": 27
        }
      ]
    },
    {
      "cell_type": "markdown",
      "source": [
        "7. In Dictionary, items can be added using “dict[key]=value” to add new key pair values. For modifying the value it will be based on “my_dict[key value]=” updated value”. “Del d [“key value”]” is mainly used for deleting the value.\n"
      ],
      "metadata": {
        "id": "4aLxRukrdaUG"
      }
    },
    {
      "cell_type": "code",
      "source": [
        "#add value\n",
        "d={\"name\": \"sohini\", \"address\": \"kolkata\"}\n",
        "d"
      ],
      "metadata": {
        "colab": {
          "base_uri": "https://localhost:8080/"
        },
        "id": "lUdkie9xnYQo",
        "outputId": "cc1045d3-249a-419a-9b7f-c4431b413648"
      },
      "execution_count": null,
      "outputs": [
        {
          "output_type": "execute_result",
          "data": {
            "text/plain": [
              "{'name': 'sohini', 'address': 'kolkata'}"
            ]
          },
          "metadata": {},
          "execution_count": 10
        }
      ]
    },
    {
      "cell_type": "code",
      "source": [
        "d[\"contact no\"]=\"1234\"\n",
        "d"
      ],
      "metadata": {
        "colab": {
          "base_uri": "https://localhost:8080/"
        },
        "id": "pqKxmtQnnYVY",
        "outputId": "1d444a63-644f-4e28-8956-77bb97125a42"
      },
      "execution_count": null,
      "outputs": [
        {
          "output_type": "execute_result",
          "data": {
            "text/plain": [
              "{'name': 'sohini', 'address': 'kolkata', 'contact no': '1234'}"
            ]
          },
          "metadata": {},
          "execution_count": 12
        }
      ]
    },
    {
      "cell_type": "code",
      "source": [
        "d={'name': 'sohini', 'address': 'kolkata', 'contact no': '1234'}\n",
        "len (d)"
      ],
      "metadata": {
        "colab": {
          "base_uri": "https://localhost:8080/"
        },
        "id": "39OpK2nHnYY5",
        "outputId": "6acecbcf-4a1c-4823-fc65-02727fc56f71"
      },
      "execution_count": null,
      "outputs": [
        {
          "output_type": "execute_result",
          "data": {
            "text/plain": [
              "3"
            ]
          },
          "metadata": {},
          "execution_count": 20
        }
      ]
    },
    {
      "cell_type": "code",
      "source": [
        "d={'name': 'sohini', 'address': 'kolkata', 'contact no': '1234'}\n",
        "d.keys ()"
      ],
      "metadata": {
        "colab": {
          "base_uri": "https://localhost:8080/"
        },
        "id": "DyEaVRednYcU",
        "outputId": "33ba91e2-ae71-4dbe-c138-8219841f220c"
      },
      "execution_count": null,
      "outputs": [
        {
          "output_type": "execute_result",
          "data": {
            "text/plain": [
              "dict_keys(['name', 'address', 'contact no'])"
            ]
          },
          "metadata": {},
          "execution_count": 24
        }
      ]
    },
    {
      "cell_type": "code",
      "source": [
        "d.values ()"
      ],
      "metadata": {
        "colab": {
          "base_uri": "https://localhost:8080/"
        },
        "id": "jnOxmkkYnYgE",
        "outputId": "6f5455ea-f542-4395-85f0-3d387702bfe0"
      },
      "execution_count": null,
      "outputs": [
        {
          "output_type": "execute_result",
          "data": {
            "text/plain": [
              "dict_values(['sohini', 'kolkata', '1234'])"
            ]
          },
          "metadata": {},
          "execution_count": 25
        }
      ]
    },
    {
      "cell_type": "code",
      "source": [
        "d1=d.copy()\n",
        "d"
      ],
      "metadata": {
        "colab": {
          "base_uri": "https://localhost:8080/"
        },
        "id": "NyjA3RmppaWe",
        "outputId": "db1e52dd-18c5-4a40-f31e-e731fb66831d"
      },
      "execution_count": null,
      "outputs": [
        {
          "output_type": "execute_result",
          "data": {
            "text/plain": [
              "{'name': 'sohini', 'address': 'kolkata', 'contact no': '1234'}"
            ]
          },
          "metadata": {},
          "execution_count": 27
        }
      ]
    },
    {
      "cell_type": "code",
      "source": [
        "d.pop (\"contact no\")\n",
        "d"
      ],
      "metadata": {
        "colab": {
          "base_uri": "https://localhost:8080/"
        },
        "id": "AaSFb85EpasV",
        "outputId": "e75fca9f-9c6a-4c99-d572-b140306bc93b"
      },
      "execution_count": null,
      "outputs": [
        {
          "output_type": "execute_result",
          "data": {
            "text/plain": [
              "{'name': 'sohini', 'address': 'kolkata'}"
            ]
          },
          "metadata": {},
          "execution_count": 28
        }
      ]
    },
    {
      "cell_type": "code",
      "source": [
        "d.update(d1)\n",
        "d"
      ],
      "metadata": {
        "colab": {
          "base_uri": "https://localhost:8080/"
        },
        "id": "bEhTq1hJpa4p",
        "outputId": "b8c03b8c-e10d-4cc7-be3c-4400176b2081"
      },
      "execution_count": null,
      "outputs": [
        {
          "output_type": "execute_result",
          "data": {
            "text/plain": [
              "{'name': 'sohini', 'address': 'kolkata', 'contact no': '1234'}"
            ]
          },
          "metadata": {},
          "execution_count": 30
        }
      ]
    },
    {
      "cell_type": "code",
      "source": [
        "#modify discionary\n",
        "d={\"name\": \"sohini\", \"address\": \"kolkata\", \"contact no\": \"123456\", \"name\": \"riya\"}\n",
        "d"
      ],
      "metadata": {
        "id": "DbpzyTqZdg8e",
        "colab": {
          "base_uri": "https://localhost:8080/"
        },
        "outputId": "87be2cda-c333-494e-b505-0d00f50fcb78"
      },
      "execution_count": null,
      "outputs": [
        {
          "output_type": "execute_result",
          "data": {
            "text/plain": [
              "{'name': 'riya', 'address': 'kolkata', 'contact no': '123456'}"
            ]
          },
          "metadata": {},
          "execution_count": 1
        }
      ]
    },
    {
      "cell_type": "code",
      "source": [
        "d[\"name\"]=\"rima\"\n",
        "d"
      ],
      "metadata": {
        "id": "YEwjUt_zdhHN",
        "colab": {
          "base_uri": "https://localhost:8080/"
        },
        "outputId": "b0244395-24ee-40c1-b2ac-c6aeaa843bdf"
      },
      "execution_count": null,
      "outputs": [
        {
          "output_type": "execute_result",
          "data": {
            "text/plain": [
              "{'name': 'rima', 'address': 'kolkata', 'contact no': '123456'}"
            ]
          },
          "metadata": {},
          "execution_count": 3
        }
      ]
    },
    {
      "cell_type": "code",
      "source": [
        "d= {'name':['rima','rk',2, 56],'address': 'kolkata', 'contact no': '123456'}\n",
        "d"
      ],
      "metadata": {
        "id": "HT8PqkzsdhOQ",
        "colab": {
          "base_uri": "https://localhost:8080/"
        },
        "outputId": "34f75073-d21f-4bd2-984d-f6f64b943b11"
      },
      "execution_count": null,
      "outputs": [
        {
          "output_type": "execute_result",
          "data": {
            "text/plain": [
              "{'name': ['rima', 'rk', 2, 56], 'address': 'kolkata', 'contact no': '123456'}"
            ]
          },
          "metadata": {},
          "execution_count": 7
        }
      ]
    },
    {
      "cell_type": "code",
      "source": [
        "d['name']"
      ],
      "metadata": {
        "id": "g16Ktn5qdhVC",
        "colab": {
          "base_uri": "https://localhost:8080/"
        },
        "outputId": "1f1f6a9b-2bff-438a-a10b-b95db562267f"
      },
      "execution_count": null,
      "outputs": [
        {
          "output_type": "execute_result",
          "data": {
            "text/plain": [
              "['rima', 'rk', 2, 56]"
            ]
          },
          "metadata": {},
          "execution_count": 8
        }
      ]
    },
    {
      "cell_type": "code",
      "source": [
        "d['name'] [1]"
      ],
      "metadata": {
        "colab": {
          "base_uri": "https://localhost:8080/",
          "height": 36
        },
        "id": "HxD902esm9QR",
        "outputId": "9c187d22-12d4-4152-9981-2ad31e8b3c03"
      },
      "execution_count": null,
      "outputs": [
        {
          "output_type": "execute_result",
          "data": {
            "text/plain": [
              "'rk'"
            ],
            "application/vnd.google.colaboratory.intrinsic+json": {
              "type": "string"
            }
          },
          "metadata": {},
          "execution_count": 9
        }
      ]
    },
    {
      "cell_type": "code",
      "source": [
        "#delet key value\n",
        "d={'name': 'sohini', 'address': 'kolkata', 'contact no': '1234'}\n",
        "del d [\"name\"]\n",
        "d"
      ],
      "metadata": {
        "colab": {
          "base_uri": "https://localhost:8080/"
        },
        "id": "moqUyZSvnHES",
        "outputId": "510b3b99-a406-4f20-fc25-c9ebc251c897"
      },
      "execution_count": null,
      "outputs": [
        {
          "output_type": "execute_result",
          "data": {
            "text/plain": [
              "{'address': 'kolkata', 'contact no': '1234'}"
            ]
          },
          "metadata": {},
          "execution_count": 14
        }
      ]
    },
    {
      "cell_type": "code",
      "source": [
        "d.clear ()\n",
        "d"
      ],
      "metadata": {
        "colab": {
          "base_uri": "https://localhost:8080/"
        },
        "id": "32Z3c0PDoYVA",
        "outputId": "ba4e7425-7086-4dc3-9032-187198f238bb"
      },
      "execution_count": null,
      "outputs": [
        {
          "output_type": "execute_result",
          "data": {
            "text/plain": [
              "{}"
            ]
          },
          "metadata": {},
          "execution_count": 16
        }
      ]
    },
    {
      "cell_type": "markdown",
      "source": [
        "8. In Python, the dictionary is based on key terms that are mainly immutable and remain constant and hashable. Immutability is helping Python manage consistency for the internal representations and deliver reliable and efficient access, deleting and insertion and handling key-value pairs. Primary immutable types are used as a dictionary and based on numbers, strings, and tuples."
      ],
      "metadata": {
        "id": "ks6rSwBWxG5L"
      }
    },
    {
      "cell_type": "code",
      "source": [
        "my_dict = {'name': 'sohini', 'address': 'kolkata', 'contact no': '1234'}\n",
        "my_dict"
      ],
      "metadata": {
        "colab": {
          "base_uri": "https://localhost:8080/"
        },
        "id": "ss5HZrROxHXX",
        "outputId": "59a6264d-57bd-410d-cc20-7fcd0713638c"
      },
      "execution_count": 36,
      "outputs": [
        {
          "output_type": "execute_result",
          "data": {
            "text/plain": [
              "{'name': 'sohini', 'address': 'kolkata', 'contact no': '1234'}"
            ]
          },
          "metadata": {},
          "execution_count": 36
        }
      ]
    }
  ]
}